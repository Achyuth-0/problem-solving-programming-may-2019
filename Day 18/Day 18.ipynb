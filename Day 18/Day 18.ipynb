{
 "cells": [
  {
   "cell_type": "markdown",
   "metadata": {},
   "source": [
    "# Problem solving and programming\n",
    "\n",
    "## Day no - 18\n",
    "\n",
    "## Date- 16/May/2019"
   ]
  },
  {
   "cell_type": "markdown",
   "metadata": {},
   "source": [
    "### day objectives\n",
    "    * File handling\n",
    "    * External libraries\n",
    "    * Functional programming"
   ]
  },
  {
   "cell_type": "markdown",
   "metadata": {},
   "source": [
    "### problem 1\n",
    "\n",
    "#### problem statement\n",
    "    Define a function to read data from a text file\n",
    "\n",
    "#### constraints\n",
    "\n",
    "####  Test cases\n",
    "* Test case 1\n",
    "* Test case 2 \n",
    "* Test case 3"
   ]
  },
  {
   "cell_type": "code",
   "execution_count": null,
   "metadata": {},
   "outputs": [],
   "source": [
    "def readFileData(filename):\n",
    "    with open(filename, 'r') as f:\n",
    "        for line in f:\n",
    "            print(line, end='')\n",
    "    return \n",
    "\n",
    "readFileData('DataFiles/data.txt')"
   ]
  },
  {
   "cell_type": "code",
   "execution_count": null,
   "metadata": {},
   "outputs": [],
   "source": [
    "def readfiledata(filename):\n",
    "    with open(filename, 'r') as f:\n",
    "        print(f.read())\n",
    "    \n",
    "    return \n",
    "readfiledata('Datafiles/data.txt')"
   ]
  },
  {
   "cell_type": "code",
   "execution_count": null,
   "metadata": {},
   "outputs": [],
   "source": [
    "def writeintofile(filename, data, mode):\n",
    "    with open(filename, mode) as f:\n",
    "        f.write(data)\n",
    "    return    \n",
    "writeintofile('Datafiles/filewrite.txt','third line \\n', 'a')"
   ]
  },
  {
   "cell_type": "markdown",
   "metadata": {},
   "source": [
    "### problem 2\n",
    "\n",
    "#### problem statement\n",
    "    Define a function to generate amarks data file for 1300 students succh that each mark is entered in new line.marks range from 0 to 100 (inclusive)as random numbers.\n",
    "\n",
    "#### constraints\n",
    "\n",
    "####  Test cases\n",
    "    * Test case 1\n",
    "    * Test case 2 \n",
    "    * Test case 3"
   ]
  },
  {
   "cell_type": "code",
   "execution_count": null,
   "metadata": {},
   "outputs": [],
   "source": [
    "import random\n",
    "\n",
    "def generatemarksdata(n, filename):\n",
    "    with open(filename, 'w') as marksfile:\n",
    "        for i in range(0, n):\n",
    "            marks=random.randint(0,101)\n",
    "            marksfile.write(str(marks)+'\\n')\n",
    "    return \n",
    "generatemarksdata(1300, 'Datafiles/marksdata.txt')"
   ]
  },
  {
   "cell_type": "markdown",
   "metadata": {},
   "source": [
    "### problem 3\n",
    "\n",
    "#### problem statement\n",
    "Generate a report on marks data with the following indicators\n",
    "* highest mark :\n",
    "* lowest mark :\n",
    "* average marrk :\n",
    "* no of students with distinction(>80) :\n",
    "* no of students with first class(>60) :\n",
    "* no of students with second class(>50) :\n",
    "* no of students with third class(>40) :\n",
    "* no of students failed (<40) :\n",
    "\n",
    "#### constraints\n",
    "\n",
    "####  Test cases\n",
    "    * Test case 1\n",
    "    * Test case 2 \n",
    "    * Test case 3"
   ]
  },
  {
   "cell_type": "code",
   "execution_count": null,
   "metadata": {
    "scrolled": true
   },
   "outputs": [],
   "source": [
    "import timeit\n",
    "def readfiledata(filename):\n",
    "    with open (filename,'r') as marksfile:\n",
    "        start=timeit.default_timer()\n",
    "        sum=0\n",
    "        c=d=e=f=g=0\n",
    "        a=[]\n",
    "        for i in range(0,1300):\n",
    "            a.append(int(marksfile.readline()))\n",
    "        print(max(a))\n",
    "        print(min(a))\n",
    "        for i in range(0,len(a)):\n",
    "            sum=sum+a[i]\n",
    "        average=sum/1300\n",
    "        print(average)\n",
    "        for i in range (0,len(a)):\n",
    "            if a[i]>=80:\n",
    "                c=c+1\n",
    "            if 60<=a[i]<80:\n",
    "                d=d+1\n",
    "            if 50<=a[i]<60:\n",
    "                e=e+1\n",
    "            if 40<=a[i]<50:\n",
    "                f=f+1\n",
    "            if a[i]<40:\n",
    "                g=g+1\n",
    "        print('distinction',c)\n",
    "        print('firstclass',d)\n",
    "        print('second class',e)\n",
    "        print('third class',f)\n",
    "        print('fail',g)\n",
    "        return timeit.default_timer() - start   \n",
    "            \n",
    "        \n",
    "readfiledata('Datafiles/marksdata.txt')"
   ]
  },
  {
   "cell_type": "code",
   "execution_count": null,
   "metadata": {},
   "outputs": [],
   "source": [
    "import timeit\n",
    "def square(n):\n",
    "    return n *n\n",
    "st=timeit.default_timer()\n",
    "\n",
    "li=[1,2,3,4,5,6]\n",
    "\n",
    "s=list(map(str,li))\n",
    "s=[float(i) for i in s]\n",
    "print(timeit.default_timer()-st)\n",
    "s"
   ]
  },
  {
   "cell_type": "markdown",
   "metadata": {},
   "source": [
    "## External Libraries"
   ]
  },
  {
   "cell_type": "markdown",
   "metadata": {},
   "source": [
    "### Numpy"
   ]
  },
  {
   "cell_type": "code",
   "execution_count": 2,
   "metadata": {},
   "outputs": [
    {
     "name": "stdout",
     "output_type": "stream",
     "text": [
      "[[ 0  2  4]\n",
      " [ 6  8 10]]\n"
     ]
    },
    {
     "data": {
      "text/plain": [
       "numpy.ndarray"
      ]
     },
     "execution_count": 2,
     "metadata": {},
     "output_type": "execute_result"
    }
   ],
   "source": [
    "import numpy as np\n",
    "\n",
    "a=np.array([[0,1,2],[3,4,5]])\n",
    "b=np.array([[0,1,2],[3,4,5]])\n",
    "\n",
    "\n",
    "print(a+b)\n",
    "type(a)"
   ]
  }
 ],
 "metadata": {
  "kernelspec": {
   "display_name": "Python 3",
   "language": "python",
   "name": "python3"
  },
  "language_info": {
   "codemirror_mode": {
    "name": "ipython",
    "version": 3
   },
   "file_extension": ".py",
   "mimetype": "text/x-python",
   "name": "python",
   "nbconvert_exporter": "python",
   "pygments_lexer": "ipython3",
   "version": "3.7.3"
  }
 },
 "nbformat": 4,
 "nbformat_minor": 2
}
