{
 "cells": [
  {
   "cell_type": "markdown",
   "metadata": {},
   "source": [
    "# Problem solving and programming\n",
    "\n",
    "## Day no - 17\n",
    "\n",
    "## Date- 15/May/2019"
   ]
  },
  {
   "cell_type": "markdown",
   "metadata": {},
   "source": [
    "### Day Outcomes\n",
    "* Regular Expression\n",
    "* Generators in Python"
   ]
  },
  {
   "cell_type": "code",
   "execution_count": 10,
   "metadata": {},
   "outputs": [
    {
     "data": {
      "text/plain": [
       "720"
      ]
     },
     "execution_count": 10,
     "metadata": {},
     "output_type": "execute_result"
    }
   ],
   "source": [
    "import pythonscripts.Day17\n",
    "\n",
    "pythonscripts.Day17.factorial(6)"
   ]
  },
  {
   "cell_type": "code",
   "execution_count": 3,
   "metadata": {},
   "outputs": [
    {
     "data": {
      "text/plain": [
       "'pto'"
      ]
     },
     "execution_count": 3,
     "metadata": {},
     "output_type": "execute_result"
    }
   ],
   "source": [
    "import pythonscripts.string.string as a\n",
    "\n",
    "a.alternativecharacters('python')"
   ]
  },
  {
   "cell_type": "markdown",
   "metadata": {},
   "source": [
    "# Regular Expression:\n",
    "\n",
    "As set of all possibble values that satisfy a given pattern\n",
    "\n",
    "* 0123456789\n",
    "* [0-9]\n",
    "* [a-z]\n",
    "* [A-Z]\n",
    "\n",
    " s*\n",
    "\n",
    "     s\n",
    "     sub\n",
    "\n",
    " s+\n",
    "   "
   ]
  },
  {
   "cell_type": "code",
   "execution_count": 11,
   "metadata": {},
   "outputs": [
    {
     "name": "stdout",
     "output_type": "stream",
     "text": [
      "not matched\n"
     ]
    }
   ],
   "source": [
    "import re\n",
    "pattern='^[a-z]{3,10}$'\n",
    "\n",
    "domain='gm'\n",
    "\n",
    "if re.match(pattern,domain):\n",
    "    print('matched')\n",
    "else:\n",
    "    print('not matched')"
   ]
  },
  {
   "cell_type": "markdown",
   "metadata": {},
   "source": [
    "### problem 1:\n",
    "\n",
    "#### problem statement\n",
    "    Validate a Postal Code\n",
    "\n",
    "#### constraints\n",
    "\n",
    "####  Test cases\n",
    "    * 500001,203456 -> True\n",
    "    * 050101 -> False"
   ]
  },
  {
   "cell_type": "code",
   "execution_count": 4,
   "metadata": {},
   "outputs": [
    {
     "name": "stdout",
     "output_type": "stream",
     "text": [
      "Matched\n"
     ]
    }
   ],
   "source": [
    "import re\n",
    "\n",
    "pattern='^[1-9][0-9]{5}$'\n",
    "\n",
    "domain='500001'\n",
    "\n",
    "if re.match(pattern,domain):\n",
    "    print('Matched')\n",
    "else:\n",
    "    print('Not Matched')               "
   ]
  },
  {
   "cell_type": "markdown",
   "metadata": {},
   "source": [
    "### problem 2\n",
    "\n",
    "#### problem statement\n",
    "    Validate a Indian Phone Number.\n",
    "\n",
    "#### constraints\n",
    "\n",
    "####  Test cases\n",
    "    * +91 8008370730 -> True\n",
    "    * +16 15456 -> False"
   ]
  },
  {
   "cell_type": "code",
   "execution_count": 6,
   "metadata": {},
   "outputs": [
    {
     "name": "stdout",
     "output_type": "stream",
     "text": [
      "Matched\n"
     ]
    }
   ],
   "source": [
    "import re\n",
    "\n",
    "pattern='^[+][9][1][ ][6-9][0-9]{9}$'\n",
    "\n",
    "number='+91 8008370730'\n",
    "\n",
    "if re.match(pattern,number):\n",
    "    print('Matched')\n",
    "else:\n",
    "    print('Not Matched')"
   ]
  },
  {
   "cell_type": "markdown",
   "metadata": {},
   "source": [
    "### problem 3\n",
    "\n",
    "#### problem statement\n",
    "    1.Define a function to validate email addresses based on the following rules.\n",
    "\n",
    "    Email should be in the format username@domain.extension username must start with an alphabet and can contain lowercase alphabet, digits, hyphen(-) and underscores( _ ). username must not contain special characters, uppercase letters, whitespaces. Length of username must be in the range (6, 16) Domain can only contain lowercase alphabet and digits with length in range (3, 10) . No special characters are allowed Extension can only contain lower case alphabet and its length must be in the range (2, 4) First line of input contains total number of email addresses n. Next n lines contain n email addresses.\n",
    "\n",
    "    Output must contain contain n lines with either 'Valid' or 'Invalid' (Using Regular Expressions)\n",
    "\n",
    "#### constraints\n",
    "\n",
    "####  Test cases\n",
    "* Sample Input : 6\n",
    "\n",
    "* abc456@gmail.com\n",
    "\n",
    "* 456abc@yahoo.com\n",
    "\n",
    "* abc_456@gitam.ed1\n",
    "\n",
    "* abc-456@abc-d.in\n",
    "    \n",
    "* python@python.edu\n",
    "\n",
    "* abc 456@edu.edu\n",
    "\n",
    "* Sample Output : Valid\n",
    "\n",
    "* Invalid\n",
    "\n",
    "* Invalid\n",
    " \n",
    "* Invalid\n",
    "\n",
    "* Valid\n",
    "\n",
    "* Invalid"
   ]
  },
  {
   "cell_type": "code",
   "execution_count": 7,
   "metadata": {},
   "outputs": [
    {
     "name": "stdout",
     "output_type": "stream",
     "text": [
      "Matched\n"
     ]
    }
   ],
   "source": [
    "import re\n",
    "\n",
    "pattern='^[a-z][a-z-0-9_.]{5,13}[a-z0-9][@][0-9a-z]{3,9}[.][a-z]{2,3}$'\n",
    "\n",
    "mail='vamsireddy981@gitam.in'\n",
    "\n",
    "if re.match(pattern,mail):\n",
    "    print('Matched')\n",
    "else:\n",
    "    print('Not Matched')"
   ]
  },
  {
   "cell_type": "markdown",
   "metadata": {},
   "source": [
    "### problem 4\n",
    "\n",
    "#### problem statement\n",
    "    Validate a Password.\n",
    "\n",
    "#### constraints\n",
    "* Should contain atleast one uppercase letter\n",
    "* length in the range (6,21)\n",
    "* should contain atleast one special character\n",
    "* should start with an uppercase or lowercase\n",
    "* should contain atleast one digit\n",
    "\n",
    "####  Test cases\n",
    "* represents 0 or more\n",
    "* represents 1 or more\n",
    "\n",
    "#### Iterators\n",
    "Lists, Tuples, String"
   ]
  },
  {
   "cell_type": "code",
   "execution_count": 8,
   "metadata": {},
   "outputs": [
    {
     "name": "stdout",
     "output_type": "stream",
     "text": [
      "1 2 3 4 5 6 1 2 3 4 5 6 "
     ]
    }
   ],
   "source": [
    "li=[1,2,3,4,5,6]\n",
    "\n",
    "for i in li:\n",
    "    print(i,end=' ')\n",
    "    \n",
    "type(li)\n",
    "it = iter(li)\n",
    "for i in it:\n",
    "    print(i,end=' ')"
   ]
  },
  {
   "cell_type": "markdown",
   "metadata": {},
   "source": [
    "# Generators in Python"
   ]
  },
  {
   "cell_type": "code",
   "execution_count": 9,
   "metadata": {},
   "outputs": [
    {
     "name": "stdout",
     "output_type": "stream",
     "text": [
      "1 8 27 64 125 216 343 512 729 1000 "
     ]
    }
   ],
   "source": [
    "li=[i**2 for i in range(1,10)]\n",
    "li\n",
    "\n",
    "sum(li)\n",
    "\n",
    "gn=(i**3 for i in range(1,11))\n",
    "for i in gn:\n",
    "    print(i,end=' ')"
   ]
  }
 ],
 "metadata": {
  "kernelspec": {
   "display_name": "Python 3",
   "language": "python",
   "name": "python3"
  },
  "language_info": {
   "codemirror_mode": {
    "name": "ipython",
    "version": 3
   },
   "file_extension": ".py",
   "mimetype": "text/x-python",
   "name": "python",
   "nbconvert_exporter": "python",
   "pygments_lexer": "ipython3",
   "version": "3.7.3"
  }
 },
 "nbformat": 4,
 "nbformat_minor": 2
}
